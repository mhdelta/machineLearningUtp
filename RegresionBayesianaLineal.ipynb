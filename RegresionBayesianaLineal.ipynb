{
  "nbformat": 4,
  "nbformat_minor": 0,
  "metadata": {
    "colab": {
      "name": "RegresionBayesianaLineal.ipynb",
      "version": "0.3.2",
      "provenance": [],
      "include_colab_link": true
    },
    "kernelspec": {
      "name": "python3",
      "display_name": "Python 3"
    }
  },
  "cells": [
    {
      "cell_type": "markdown",
      "metadata": {
        "id": "view-in-github",
        "colab_type": "text"
      },
      "source": [
        "<a href=\"https://colab.research.google.com/github/mhdelta/machineLearningUtp/blob/master/RegresionBayesianaLineal.ipynb\" target=\"_parent\"><img src=\"https://colab.research.google.com/assets/colab-badge.svg\" alt=\"Open In Colab\"/></a>"
      ]
    },
    {
      "cell_type": "markdown",
      "metadata": {
        "id": "jycTnwJAK65V",
        "colab_type": "text"
      },
      "source": [
        "# Regresión Bayesiana Líneal\n",
        "\n",
        "Es una alternativa a la regularización\n",
        "w_ml es una solución cerrada \n",
        "En este lo que se hará es asumir un prior para w y calcular la probabilidad a posteriori de w dados los datos t\n",
        "\n",
        "Voy a hacer predicciones del modelo a partir de unos datos t, voy a estimar el posterior de ese modelo.\n",
        "\n",
        "$P(W|t) =  \\frac{p(t|w) p(w)}{p(t)}$\n",
        "\n",
        "Asumiendo un prior:\n",
        "\n",
        "$p(w) N(w | m_{0}, s_{0})$\n",
        "\n",
        "$p(t|w, X,\\beta )=N(t|\\phi w, b^{-1}, I)$\n",
        "\n",
        "usando las propiedades de la gausiana, el posterior de w dado t\n",
        "\n",
        "$p(w|t)=N(w|m_{n}, S_{N})$\n",
        "\n",
        "$S_{N} =  (s_{0}^{-1} + \\phi\\top \\beta * I \\phi)^{-1}$\n",
        "$=$ "
      ]
    }
  ]
}