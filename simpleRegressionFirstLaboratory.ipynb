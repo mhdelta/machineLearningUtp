{
  "nbformat": 4,
  "nbformat_minor": 0,
  "metadata": {
    "colab": {
      "name": "simpleRegressionFirstLaboratory.ipynb",
      "version": "0.3.2",
      "provenance": [],
      "collapsed_sections": [],
      "include_colab_link": true
    },
    "kernelspec": {
      "name": "python3",
      "display_name": "Python 3"
    }
  },
  "cells": [
    {
      "cell_type": "markdown",
      "metadata": {
        "id": "view-in-github",
        "colab_type": "text"
      },
      "source": [
        "<a href=\"https://colab.research.google.com/github/mhdelta/machineLearningUtp/blob/master/simpleRegressionFirstLaboratory.ipynb\" target=\"_parent\"><img src=\"https://colab.research.google.com/assets/colab-badge.svg\" alt=\"Open In Colab\"/></a>"
      ]
    },
    {
      "cell_type": "markdown",
      "metadata": {
        "id": "VPlN1P271uKH",
        "colab_type": "text"
      },
      "source": [
        "# Laboratorio 1\n",
        "## Modelos de regresión líneal\n",
        "\n",
        "Sea un conjunto de entrenamiento $\\bf{x} = {x1, \\dots,xn}$\n",
        "\n",
        "El modelo de regresión de máxima verosimilitud se encuentra cuando \n",
        "\n",
        "El modelo es la matriz de diseño por las etiquetas"
      ]
    },
    {
      "cell_type": "code",
      "metadata": {
        "id": "lNfr78e21G_-",
        "colab_type": "code",
        "colab": {}
      },
      "source": [
        "import numpy as np\n",
        "import matplotlib.pyplot as plt "
      ],
      "execution_count": 0,
      "outputs": []
    },
    {
      "cell_type": "code",
      "metadata": {
        "id": "YQ_mrmC938lJ",
        "colab_type": "code",
        "colab": {
          "base_uri": "https://localhost:8080/",
          "height": 300
        },
        "outputId": "a9829d47-4684-4302-8ddf-49864e33f8a3"
      },
      "source": [
        "N = 49 #@param {type:\"slider\", min:0, max:100, step:1}\n",
        "x = np.linspace(0, 1, N)\n",
        "#print(N)\n",
        "t_real = np.sin(2*np.pi*x)\n",
        "t_obs = t_real +  + 0.1 * np.random.randn(N)\n",
        "\n",
        "\n",
        "plt.plot(x, t_real, '-g')\n",
        "plt.plot(x, t_obs, 'ob')\n",
        "plt.xlabel(\"x\")\n",
        "plt.ylabel(\"y\")\n",
        "plt.legend(('GT', 'tobs'))"
      ],
      "execution_count": 71,
      "outputs": [
        {
          "output_type": "execute_result",
          "data": {
            "text/plain": [
              "<matplotlib.legend.Legend at 0x7f3c84669588>"
            ]
          },
          "metadata": {
            "tags": []
          },
          "execution_count": 71
        },
        {
          "output_type": "display_data",
          "data": {
            "image/png": "[encoded data removed]",
            "text/plain": [
              "<Figure size 432x288 with 1 Axes>"
            ]
          },
          "metadata": {
            "tags": []
          }
        }
      ]
    },
    {
      "cell_type": "markdown",
      "metadata": {
        "id": "kntiZvQS8V62",
        "colab_type": "text"
      },
      "source": [
        "Necesito encontrar w, pero para esto necesito la matriz de diseño\n",
        "Pero para hacer eso tengo que crear la función base\n"
      ]
    },
    {
      "cell_type": "code",
      "metadata": {
        "id": "7g41BvC37LNt",
        "colab_type": "code",
        "colab": {}
      },
      "source": [
        "# creo la matriz de diseño\n",
        "\n",
        "def fbasePoli(xtrain, M, func):\n",
        "  auxPhiVect = np.zeros(M)\n",
        "  indM = np.linspace(0, M-1, M) #Indices de m\n",
        "  if func == \"poli\":\n",
        "    auxPhiVect = np.power(xtrain, indM)\n",
        "  return auxPhiVect\n",
        "\n",
        "def desingMatrix(datos,M):\n",
        "  auxMPHI = np.zeros((N, M))\n",
        "  for n in range(0,N):\n",
        "    auxMPHI[n, :] = fbasePoli(datos[n], M, \"poli\")\n",
        "  return auxMPHI"
      ],
      "execution_count": 0,
      "outputs": []
    },
    {
      "cell_type": "code",
      "metadata": {
        "id": "GU0s7n2l-PqD",
        "colab_type": "code",
        "colab": {
          "base_uri": "https://localhost:8080/",
          "height": 68
        },
        "outputId": "f0f4cc72-776d-45d9-f685-9764c2f436a2"
      },
      "source": [
        "# Calcular la matriz phi\n",
        "numfuncbase = 10\n",
        "MPHI = desingMatrix(x, numfuncbase)\n",
        "MPHIT = MPHI.T\n",
        "w_ml = np.linalg.inv(MPHIT@MPHI).dot(MPHIT@t_obs)\n",
        "print(\"El modelo w_ml es: \", w_ml)"
      ],
      "execution_count": 78,
      "outputs": [
        {
          "output_type": "stream",
          "text": [
            "El modelo w_ml es:  [-8.35574601e-02 -1.52450707e-02  1.71748567e+02 -1.61566543e+03\n",
            "  7.09523431e+03 -1.78120742e+04  2.64574672e+04 -2.28211456e+04\n",
            "  1.05217172e+04 -1.99719703e+03]\n"
          ],
          "name": "stdout"
        }
      ]
    },
    {
      "cell_type": "code",
      "metadata": {
        "id": "CUnNSkJc_d2r",
        "colab_type": "code",
        "colab": {
          "base_uri": "https://localhost:8080/",
          "height": 300
        },
        "outputId": "e81bb872-c559-4479-c486-53db45592ea1"
      },
      "source": [
        "# Se realiza la predicción de las etiquetas\n",
        "\n",
        "\n",
        "yEst = MPHI@(w_ml)\n",
        "\n",
        "plt.plot(x, t_real, '-g')\n",
        "plt.plot(x, t_obs, 'ob')\n",
        "plt.plot(x, yEst, '--k')\n",
        "plt.xlabel(\"x\")\n",
        "plt.ylabel(\"y\")\n",
        "plt.legend(('GT', 't_est'))\n",
        "\n"
      ],
      "execution_count": 79,
      "outputs": [
        {
          "output_type": "execute_result",
          "data": {
            "text/plain": [
              "<matplotlib.legend.Legend at 0x7f3c8459b668>"
            ]
          },
          "metadata": {
            "tags": []
          },
          "execution_count": 79
        },
        {
          "output_type": "display_data",
          "data": {
            "image/png": "[encoded data removed]",
            "text/plain": [
              "<Figure size 432x288 with 1 Axes>"
            ]
          },
          "metadata": {
            "tags": []
          }
        }
      ]
    },
    {
      "cell_type": "code",
      "metadata": {
        "id": "FlD4rSgIDW8b",
        "colab_type": "code",
        "colab": {
          "base_uri": "https://localhost:8080/",
          "height": 51
        },
        "outputId": "cb4e3447-3f3a-4664-b5b1-edfdf21c08b9"
      },
      "source": [
        "# Error mse\n",
        "\n",
        "error_mse = 0.5*(t_real-yEst).dot(t_real-yEst)\n",
        "print(\"Error mse: \", error_mse)\n",
        "\n",
        "# El grado de correlación cuadrático debe ser de 98\n",
        "from sklearn.metrics import r2_score\n",
        "\n",
        "print(\"r2: \", r2_score(t_real, yEst))\n"
      ],
      "execution_count": 83,
      "outputs": [
        {
          "output_type": "stream",
          "text": [
            "Error mse:  0.08671301194347086\n",
            "r2:  0.9927739156713774\n"
          ],
          "name": "stdout"
        }
      ]
    },
    {
      "cell_type": "code",
      "metadata": {
        "id": "qh4Qp3aFDtS0",
        "colab_type": "code",
        "colab": {}
      },
      "source": [
        ""
      ],
      "execution_count": 0,
      "outputs": []
    }
  ]
}